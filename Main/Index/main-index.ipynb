{
 "cells": [
  {
   "cell_type": "code",
   "execution_count": null,
   "metadata": {},
   "outputs": [],
   "source": [
    "#******************************************\n",
    "# Primer commit main app-prueba\n",
    "# subir a Github\n",
    "# index\n",
    "# ejecutable.exe\n",
    "# release: 31/10/2022\n",
    "# Developer: H. Leandro Mangicavalli\n",
    "#******************************************\n",
    "\n",
    "#main - resources\n",
    "\n",
    "diametro = 6, 7, 8, 9, 10, 16, 18, 20, 22, 24, 27, 30, 33, 36, 39, 42, 45, 52, 56, 60, 64, 68, 72, 76, 80\n",
    "\n",
    "paso = 1, 1.25, 1.5, 2, 2.25, 3, 3.5, 4, 4.5, 5, 5.5, 6\n",
    "\n",
    "largo = 1/4, 1/2, 3/4, 1\n",
    "\n",
    "rosca = \"rosca izquierda\", \"rosca derecha\"\n",
    "\n",
    "cantidad = \"cant1 por unidad\", \"cant2 por kilogramos\"\n",
    "\n",
    "#index\n",
    "\n",
    "diametro = input (\"Indique diametro\")\n",
    "print (\"usted a ingresado: \" + diametro)\n",
    "\n",
    "paso = input (\"Indique paso\")\n",
    "print (\"usted a ingresado: \" + paso)\n",
    "\n",
    "largo = input (\"Indique largo\")\n",
    "print (\"usted a ingresado: \" + largo)\n",
    "\n",
    "rosca = input (\"Indique rosca\")\n",
    "print (\"usted a ingresado: \" + rosca)\n",
    "\n",
    "cantidad = input (\"Indique cantidad\")\n",
    "print (\"usted a ingresado: \" + cantidad)"
   ]
  }
 ],
 "metadata": {
  "kernelspec": {
   "display_name": "Python 3.11.0 64-bit",
   "language": "python",
   "name": "python3"
  },
  "language_info": {
   "name": "python",
   "version": "3.11.0"
  },
  "orig_nbformat": 4,
  "vscode": {
   "interpreter": {
    "hash": "23a98e61efe2c996efc64635f44e0e1f4955fc658b8d12a0544b86fc93525be1"
   }
  }
 },
 "nbformat": 4,
 "nbformat_minor": 2
}
