{
 "cells": [
  {
   "cell_type": "code",
   "execution_count": null,
   "metadata": {},
   "outputs": [
    {
     "ename": "",
     "evalue": "",
     "output_type": "error",
     "traceback": [
      "\u001b[1;31mLa ejecución de celdas con 'Python 3.11.0 64-bit' requieren el paquete ipykernel.\n",
      "\u001b[1;31mEjecute el siguiente comando para instalar 'ipykernel' en el entorno de Python. comando \n",
      "\u001b[1;31m: 'c:/Users/MangicL/AppData/Local/Programs/Python/Python311/python.exe -m pip install ipykernel -U --user --force-reinstall'"
     ]
    }
   ],
   "source": [
    "\n",
    "#variableDiametro\n",
    "diametro = 6, 7, 8, 9, 10\n",
    "\n",
    "#variablePaso\n",
    "paso = 1, 1.25, 1.5\n",
    "\n",
    "#variableLargo\n",
    "largo = 1/4, 1/2, 3/4, 1\n",
    "\n",
    "#variableRosca\n",
    "rosca = \"rosca izquierda\", \"rosca derecha\"\n",
    "\n",
    "#variableCliente\n",
    "\"import\"\n",
    "\n",
    "#fechaEntrega\n",
    "\"calendar\""
   ]
  }
 ],
 "metadata": {
  "kernelspec": {
   "display_name": "Python 3.11.0 64-bit",
   "language": "python",
   "name": "python3"
  },
  "language_info": {
   "name": "python",
   "version": "3.11.0"
  },
  "orig_nbformat": 4,
  "vscode": {
   "interpreter": {
    "hash": "23a98e61efe2c996efc64635f44e0e1f4955fc658b8d12a0544b86fc93525be1"
   }
  }
 },
 "nbformat": 4,
 "nbformat_minor": 2
}
