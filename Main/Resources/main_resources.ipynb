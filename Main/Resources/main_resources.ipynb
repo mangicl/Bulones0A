{
 "cells": [
  {
   "cell_type": "code",
   "execution_count": null,
   "metadata": {},
   "outputs": [],
   "source": [
    "\n",
    "#variableDiametro\n",
    "diametro = 6, 7, 8, 9, 10, 16, 18, 20, 22, 24, 27, 30, 33, 36, 39, 42, 45, 52, 56, 60, 64, 68, 72, 76, 80\n",
    "\n",
    "#variablePaso\n",
    "paso = 1, 1.25, 1.5, 2, 2.25, 3, 3.5, 4, 4.5, 5, 5.5, 6\n",
    "\n",
    "#variableLargo\n",
    "largo = 1/4, 1/2, 3/4, 1\n",
    "\n",
    "#variableRosca\n",
    "rosca = \"rosca izquierda\", \"rosca derecha\"\n",
    "\n",
    "#variableCliente\n",
    "\"import\"\n",
    "\n",
    "#fechaEntrega\n",
    "\"calendar\""
   ]
  }
 ],
 "metadata": {
  "language_info": {
   "name": "python"
  },
  "orig_nbformat": 4
 },
 "nbformat": 4,
 "nbformat_minor": 2
}
